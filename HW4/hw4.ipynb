{
 "cells": [
  {
   "cell_type": "code",
   "execution_count": 1,
   "metadata": {},
   "outputs": [],
   "source": [
    "import os\n",
    "import csv"
   ]
  },
  {
   "cell_type": "code",
   "execution_count": 2,
   "metadata": {},
   "outputs": [],
   "source": [
    "df = []\n",
    "columns = []"
   ]
  },
  {
   "cell_type": "code",
   "execution_count": 19,
   "metadata": {},
   "outputs": [],
   "source": [
    "with open('outpatient_sample.csv', 'r') as csvfile:\n",
    "    reader = csv.reader(csvfile)\n",
    "    columns = next(reader)\n",
    "    for row in reader:\n",
    "        df.append(row)\n",
    "csvfile.close()\n"
   ]
  },
  {
   "cell_type": "code",
   "execution_count": 11,
   "metadata": {},
   "outputs": [],
   "source": [
    "total_visit = {}\n",
    "visit_col = columns.index('Visit_ID')\n",
    "patient_col = columns.index('Patient_ID')"
   ]
  },
  {
   "cell_type": "code",
   "execution_count": 14,
   "metadata": {},
   "outputs": [
    {
     "name": "stdout",
     "output_type": "stream",
     "text": [
      "{'00013D2EFD8E45D1': 1, '00016F745862898F': 2, '0001FDD721E223DC': 1, '00024B3D2352D2D0': 4, '0002F28CE057345B': 18, '000308435E3E5B76': 12, '000345A39D4157C9': 2, '000489E7EAAD463F': 2, '00048EF1F4791C68': 4, '0004F0ABD505251D': 15, '00052705243EA128': 30, '00070B63745BE497': 4, '0007F12A492FD25D': 33, '000B4662348C35B4': 28, '000C7486B11E7030': 2, '000DDD364C46E2C6': 9, '00108066CA1FACCE': 8, '0011714C14B52EEB': 9, '0011CB1FE23E91AF': 2, '0012AFEEC379A69D': 1, '00131C35661B2926': 7, '00139C345A104F72': 25, '0013E139F1F37264': 6, '0014FFD71C90B753': 4, '00151A878F9A2C0D': 9, '00157F1570C74E09': 2}\n"
     ]
    }
   ],
   "source": [
    "for patient in df:\n",
    "    total_visit.setdefault(patient[patient_col], set()).add(patient[visit_col])\n",
    "\n",
    "for key in total_visit.keys():\n",
    "    total_visit[key] = len(total_visit[key])\n",
    "\n",
    "print(total_visit)"
   ]
  },
  {
   "cell_type": "code",
   "execution_count": 15,
   "metadata": {},
   "outputs": [],
   "source": [
    "unique_physicians = {}\n",
    "patient_col = columns.index('Patient_ID')\n",
    "physicians_col = [ix for ix, value in enumerate(columns) if \"Physician\" in value]"
   ]
  },
  {
   "cell_type": "code",
   "execution_count": 16,
   "metadata": {},
   "outputs": [
    {
     "name": "stdout",
     "output_type": "stream",
     "text": [
      "{'00013D2EFD8E45D1': 1, '00016F745862898F': 2, '0001FDD721E223DC': 1, '00024B3D2352D2D0': 4, '0002F28CE057345B': 21, '000308435E3E5B76': 6, '000345A39D4157C9': 3, '000489E7EAAD463F': 1, '00048EF1F4791C68': 4, '0004F0ABD505251D': 18, '00052705243EA128': 16, '00070B63745BE497': 4, '0007F12A492FD25D': 21, '000B4662348C35B4': 28, '000C7486B11E7030': 4, '000DDD364C46E2C6': 9, '00108066CA1FACCE': 8, '0011714C14B52EEB': 6, '0011CB1FE23E91AF': 3, '0012AFEEC379A69D': 1, '00131C35661B2926': 11, '00139C345A104F72': 24, '0013E139F1F37264': 7, '0014FFD71C90B753': 7, '00151A878F9A2C0D': 12, '00157F1570C74E09': 2}\n"
     ]
    }
   ],
   "source": [
    "for patient in df:\n",
    "    for physician in physicians_col:\n",
    "        if patient[physician] == '':\n",
    "            continue\n",
    "        unique_physicians.setdefault(patient[patient_col], set()).add(patient[physician])\n",
    "\n",
    "for key in unique_physicians.keys():\n",
    "    unique_physicians[key] = len(unique_physicians[key])\n",
    "\n",
    "print(unique_physicians)"
   ]
  },
  {
   "cell_type": "code",
   "execution_count": 20,
   "metadata": {},
   "outputs": [],
   "source": [
    "unique_diagnosis = {}\n",
    "patient_col = columns.index('Patient_ID')\n",
    "diagnosis_col = [ix for ix, value in enumerate(columns) if \"ICD9\" in value]"
   ]
  },
  {
   "cell_type": "code",
   "execution_count": 21,
   "metadata": {},
   "outputs": [
    {
     "name": "stdout",
     "output_type": "stream",
     "text": [
      "{'00013D2EFD8E45D1': 1, '00016F745862898F': 9, '0001FDD721E223DC': 3, '00024B3D2352D2D0': 4, '0002F28CE057345B': 45, '000308435E3E5B76': 28, '000345A39D4157C9': 9, '000489E7EAAD463F': 8, '00048EF1F4791C68': 6, '0004F0ABD505251D': 44, '00052705243EA128': 65, '00070B63745BE497': 6, '0007F12A492FD25D': 80, '000B4662348C35B4': 63, '000C7486B11E7030': 4, '000DDD364C46E2C6': 41, '00108066CA1FACCE': 27, '0011714C14B52EEB': 15, '0011CB1FE23E91AF': 4, '0012AFEEC379A69D': 1, '00131C35661B2926': 25, '00139C345A104F72': 50, '0013E139F1F37264': 21, '0014FFD71C90B753': 8, '00151A878F9A2C0D': 23, '00157F1570C74E09': 5}\n"
     ]
    }
   ],
   "source": [
    "for patient in df:\n",
    "    for diagnosis in diagnosis_col:\n",
    "        if patient[diagnosis] == '':\n",
    "            continue\n",
    "        unique_diagnosis.setdefault(patient[patient_col], set()).add(patient[diagnosis])\n",
    "\n",
    "for key in unique_diagnosis.keys():\n",
    "    unique_diagnosis[key] = len(unique_diagnosis[key])\n",
    "\n",
    "print(unique_diagnosis)"
   ]
  },
  {
   "cell_type": "code",
   "execution_count": 28,
   "metadata": {},
   "outputs": [],
   "source": [
    "unique_ICD = {}\n",
    "all_ICD = {}\n",
    "most_ICD = {}\n",
    "\n",
    "patient_col = columns.index('Patient_ID')\n",
    "ICD_col = [ix for ix, value in enumerate(columns) if 'ICD9' in value]"
   ]
  },
  {
   "cell_type": "code",
   "execution_count": 29,
   "metadata": {},
   "outputs": [
    {
     "name": "stdout",
     "output_type": "stream",
     "text": [
      "{'00013D2EFD8E45D1': 1, '00016F745862898F': 9, '0001FDD721E223DC': 3, '00024B3D2352D2D0': 4, '0002F28CE057345B': 45, '000308435E3E5B76': 28, '000345A39D4157C9': 9, '000489E7EAAD463F': 8, '00048EF1F4791C68': 6, '0004F0ABD505251D': 44, '00052705243EA128': 65, '00070B63745BE497': 6, '0007F12A492FD25D': 80, '000B4662348C35B4': 63, '000C7486B11E7030': 4, '000DDD364C46E2C6': 41, '00108066CA1FACCE': 27, '0011714C14B52EEB': 15, '0011CB1FE23E91AF': 4, '0012AFEEC379A69D': 1, '00131C35661B2926': 25, '00139C345A104F72': 50, '0013E139F1F37264': 21, '0014FFD71C90B753': 8, '00151A878F9A2C0D': 23, '00157F1570C74E09': 5}\n"
     ]
    }
   ],
   "source": [
    "for patient in df:\n",
    "    for ICD in ICD_col:\n",
    "        if patient[ICD] == '':\n",
    "            continue\n",
    "        unique_ICD.setdefault(patient[patient_col], set()).add(patient[ICD])\n",
    "        all_ICD.setdefault(patient[patient_col], []).append(patient[ICD])\n",
    "\n",
    "for key in unique_ICD.keys():\n",
    "    unique_ICD[key] = len(unique_ICD[key])\n",
    "\n",
    "print(unique_ICD)"
   ]
  },
  {
   "cell_type": "code",
   "execution_count": 32,
   "metadata": {},
   "outputs": [
    {
     "name": "stdout",
     "output_type": "stream",
     "text": [
      "{'00013D2EFD8E45D1': 'V5841', '00016F745862898F': 'V5832', '0001FDD721E223DC': '78943', '00024B3D2352D2D0': '2723', '0002F28CE057345B': '3569', '000308435E3E5B76': '4019', '000345A39D4157C9': '4019', '000489E7EAAD463F': '4272', '00048EF1F4791C68': '4019', '0004F0ABD505251D': '4019', '00052705243EA128': 'V4381', '00070B63745BE497': '4019', '0007F12A492FD25D': '53081', '000B4662348C35B4': '28521', '000C7486B11E7030': '4160', '000DDD364C46E2C6': '25000', '00108066CA1FACCE': '4011', '0011714C14B52EEB': 'V5869', '0011CB1FE23E91AF': '5589', '0012AFEEC379A69D': 'V667', '00131C35661B2926': '53081', '00139C345A104F72': '4019', '0013E139F1F37264': '4019', '0014FFD71C90B753': 'V5866', '00151A878F9A2C0D': '2724', '00157F1570C74E09': '53081'}\n"
     ]
    }
   ],
   "source": [
    "for patient in all_ICD.keys():\n",
    "    freq= {}\n",
    "    for i in set(all_ICD[patient]):\n",
    "        ICD_counts = 0\n",
    "        for j in all_ICD[patient]:\n",
    "            if i == j:\n",
    "                ICD_counts += 1\n",
    "        freq[i] = ICD_counts\n",
    "\n",
    "    max_count = 0\n",
    "    most_freq = ''\n",
    "\n",
    "    for i in freq.keys():\n",
    "        if freq[i] > max_count:\n",
    "            most_freq = i\n",
    "            max_count = freq[i]\n",
    "\n",
    "    most_ICD[patient] = most_freq\n",
    "\n",
    "print(most_ICD)\n"
   ]
  },
  {
   "cell_type": "code",
   "execution_count": 34,
   "metadata": {},
   "outputs": [
    {
     "name": "stdout",
     "output_type": "stream",
     "text": [
      "{'00013D2EFD8E45D1': 'V5841', '00016F745862898F': 'V5832', '0001FDD721E223DC': '78943', '00024B3D2352D2D0': '2723', '0002F28CE057345B': '3569', '000308435E3E5B76': '4019', '000345A39D4157C9': '4019', '000489E7EAAD463F': '4272', '00048EF1F4791C68': '4019', '0004F0ABD505251D': '4019', '00052705243EA128': 'V4381', '00070B63745BE497': '4019', '0007F12A492FD25D': '53081', '000B4662348C35B4': '28521', '000C7486B11E7030': '4160', '000DDD364C46E2C6': '25000', '00108066CA1FACCE': '4011', '0011714C14B52EEB': 'V5869', '0011CB1FE23E91AF': '5589', '0012AFEEC379A69D': 'V667', '00131C35661B2926': '53081', '00139C345A104F72': '4019', '0013E139F1F37264': '4019', '0014FFD71C90B753': 'V5866', '00151A878F9A2C0D': '2724', '00157F1570C74E09': '53081'}\n"
     ]
    }
   ],
   "source": [
    "master_dict = {}\n",
    "\n",
    "master_dict.update(total_visit)\n",
    "\n",
    "master_dict.update(unique_physicians)\n",
    "\n",
    "master_dict.update(unique_diagnosis)\n",
    "\n",
    "master_dict.update(most_ICD)\n",
    "\n",
    "print(master_dict)"
   ]
  },
  {
   "cell_type": "code",
   "execution_count": 41,
   "metadata": {},
   "outputs": [],
   "source": [
    "def mer_dict(*dicts):\n",
    "    res = {}\n",
    "    for d in dicts:\n",
    "        if not isinstance(d, dict):\n",
    "            continue\n",
    "        for k, v in d.items():\n",
    "            res.setdefault(k, [])\n",
    "            if isinstance(v, list):\n",
    "                res[k].extend(v)\n",
    "            else:\n",
    "                res[k].append(v)\n",
    "    return res"
   ]
  },
  {
   "cell_type": "code",
   "execution_count": 43,
   "metadata": {},
   "outputs": [
    {
     "name": "stdout",
     "output_type": "stream",
     "text": [
      "{'00013D2EFD8E45D1': [1, 1, 1, 'V5841'], '00016F745862898F': [2, 2, 9, 'V5832'], '0001FDD721E223DC': [1, 1, 3, '78943'], '00024B3D2352D2D0': [4, 4, 4, '2723'], '0002F28CE057345B': [18, 21, 45, '3569'], '000308435E3E5B76': [12, 6, 28, '4019'], '000345A39D4157C9': [2, 3, 9, '4019'], '000489E7EAAD463F': [2, 1, 8, '4272'], '00048EF1F4791C68': [4, 4, 6, '4019'], '0004F0ABD505251D': [15, 18, 44, '4019'], '00052705243EA128': [30, 16, 65, 'V4381'], '00070B63745BE497': [4, 4, 6, '4019'], '0007F12A492FD25D': [33, 21, 80, '53081'], '000B4662348C35B4': [28, 28, 63, '28521'], '000C7486B11E7030': [2, 4, 4, '4160'], '000DDD364C46E2C6': [9, 9, 41, '25000'], '00108066CA1FACCE': [8, 8, 27, '4011'], '0011714C14B52EEB': [9, 6, 15, 'V5869'], '0011CB1FE23E91AF': [2, 3, 4, '5589'], '0012AFEEC379A69D': [1, 1, 1, 'V667'], '00131C35661B2926': [7, 11, 25, '53081'], '00139C345A104F72': [25, 24, 50, '4019'], '0013E139F1F37264': [6, 7, 21, '4019'], '0014FFD71C90B753': [4, 7, 8, 'V5866'], '00151A878F9A2C0D': [9, 12, 23, '2724'], '00157F1570C74E09': [2, 2, 5, '53081']}\n"
     ]
    }
   ],
   "source": [
    "master_d = mer_dict(total_visit, unique_physicians, unique_diagnosis, most_ICD)\n",
    "\n",
    "print(master_d)"
   ]
  },
  {
   "cell_type": "code",
   "execution_count": 51,
   "metadata": {},
   "outputs": [],
   "source": [
    "with open('zwang23_hw04.csv', mode='w',newline='') as csv_file:\n",
    "    header_key = ['Patient_ID', 'Total_Visits', 'Total_Physicians', 'Total_Diagnosis', 'Most_Freq_Diganosis']\n",
    "    csv_writer = csv.DictWriter(csv_file, fieldnames=header_key)\n",
    "    csv_writer.writeheader()\n",
    "\n",
    "    writer = csv.writer(csv_file)\n",
    "    for key, value in master_d.items():\n",
    "        writer.writerow([key, *value])\n",
    "    # for new_k in master_d:\n",
    "    #     csv_writer.writerow({'Patient_ID': new_k, 'Total_Visits': master_d[new_k], 'Total_Physicians': master_d[new_k]})"
   ]
  },
  {
   "cell_type": "code",
   "execution_count": null,
   "metadata": {},
   "outputs": [],
   "source": [
    "# initialize master dictonary\n",
    "master_dict = {}\n",
    "# list to store file names\n",
    "file_names = []\n",
    "\n",
    "def merge_dict(dict1, dict2):\n",
    "    \"\"\"utility function to merge two given dicts.\n",
    "\n",
    "        Typical usage example:\n",
    "\n",
    "        dict = merge_dict(dict1, dict2)\n",
    "\n",
    "    Args:\n",
    "        dict1: first dict to be merged.\n",
    "        dict2: second dict to be merged.\n",
    "\n",
    "    Returns:\n",
    "        dict1: a merged dict of input dicts.\n",
    "    \"\"\"\n",
    "    \n",
    "    for i in dict2.keys():\n",
    "        dict1[i]=dict2[i]\n",
    "    return dict1\n",
    "\n",
    "#merge all files into one master dict\n",
    "for i in file_names:\n",
    "    # freq = freq_count(i)\n",
    "    master_dict = merge_dict(freq, master_dict)\n",
    "    #maybe can try dict1.update(dict_2)"
   ]
  },
  {
   "cell_type": "code",
   "execution_count": 26,
   "metadata": {},
   "outputs": [],
   "source": [
    "def top_freq_dict(dict_input):\n",
    "    \"\"\"get top three frequency item in a dict.\n",
    "\n",
    "        Typical usage example:\n",
    "\n",
    "        top_freq_dict(dict)\n",
    "\n",
    "    Args:\n",
    "        dict: input dictonary to find top three frequency items.\n",
    "\n",
    "    Returns:\n",
    "        dict containing three most frequent words.\n",
    "    \"\"\"\n",
    "    temp = []\n",
    "    d = {}\n",
    "    #remove duplicates in an input dict to ignore repeats\n",
    "    for key, val in dict_input.items():\n",
    "        if val not in temp:\n",
    "            temp.append(val)\n",
    "            d[key] = val\n",
    "\n",
    "    d = sorted(d.items(), key=lambda x:x[1], reverse=True)\n",
    "    sorted_dict = dict(d)\n",
    "    # print sorted items from input dict with top three freq items        \n",
    "    return print(sorted_dict)"
   ]
  },
  {
   "cell_type": "code",
   "execution_count": 27,
   "metadata": {},
   "outputs": [
    {
     "name": "stdout",
     "output_type": "stream",
     "text": [
      "{'0007F12A492FD25D': 80, '00052705243EA128': 65, '000B4662348C35B4': 63, '00139C345A104F72': 50, '0002F28CE057345B': 45, '0004F0ABD505251D': 44, '000DDD364C46E2C6': 41, '000308435E3E5B76': 28, '00108066CA1FACCE': 27, '00131C35661B2926': 25, '00151A878F9A2C0D': 23, '0013E139F1F37264': 21, '0011714C14B52EEB': 15, '00016F745862898F': 9, '000489E7EAAD463F': 8, '00048EF1F4791C68': 6, '00157F1570C74E09': 5, '00024B3D2352D2D0': 4, '0001FDD721E223DC': 3, '00013D2EFD8E45D1': 1}\n"
     ]
    }
   ],
   "source": [
    "top_freq_dict(unique_diagnosis)"
   ]
  },
  {
   "cell_type": "code",
   "execution_count": null,
   "metadata": {},
   "outputs": [],
   "source": []
  }
 ],
 "metadata": {
  "kernelspec": {
   "display_name": "Python 3.8.9 64-bit",
   "language": "python",
   "name": "python3"
  },
  "language_info": {
   "codemirror_mode": {
    "name": "ipython",
    "version": 3
   },
   "file_extension": ".py",
   "mimetype": "text/x-python",
   "name": "python",
   "nbconvert_exporter": "python",
   "pygments_lexer": "ipython3",
   "version": "3.8.9"
  },
  "orig_nbformat": 4,
  "vscode": {
   "interpreter": {
    "hash": "31f2aee4e71d21fbe5cf8b01ff0e069b9275f58929596ceb00d14d90e3e16cd6"
   }
  }
 },
 "nbformat": 4,
 "nbformat_minor": 2
}
